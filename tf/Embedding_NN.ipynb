{
 "cells": [
  {
   "cell_type": "code",
   "execution_count": 1,
   "metadata": {
    "collapsed": true
   },
   "outputs": [],
   "source": [
    "import tensorflow as tf\n",
    "import numpy as np"
   ]
  },
  {
   "cell_type": "code",
   "execution_count": 23,
   "metadata": {
    "collapsed": false
   },
   "outputs": [],
   "source": [
    "# Some toy data to try\n",
    "user_ids = [1, 2, 3, 4, 5]\n",
    "item_ids = [101, 102, 103, 104, 105, 106, 107]\n",
    "# We represent each user with the items he interactived with\n",
    "user_items_links = [\n",
    "    (1, [101, 103, 105]), \n",
    "    (2, [102, 104]), \n",
    "    (3, [103, 107]), \n",
    "    (4, [102, 106]), \n",
    "    (5, [101, 105, 107])\n",
    "]\n",
    "training_data = np.array(\n",
    "    [[1, 0, 1, 0, 1, 0, 0],\n",
    "     [1, 0, 1, 0, 1, 0, 0],\n",
    "     [1, 0, 1, 0, 1, 0, 0],\n",
    "     [0, 1, 0, 1, 0, 0, 0],\n",
    "     [0, 1, 0, 1, 0, 0, 0],\n",
    "     [0, 0, 1, 0, 1, 0, 0],\n",
    "     [0, 0, 1, 0, 1, 0, 0],\n",
    "     [0, 1, 0, 0, 0, 1, 0],\n",
    "     [0, 1, 0, 0, 0, 1, 0],\n",
    "     [1, 0, 0, 0, 1, 0, 1],\n",
    "     [1, 0, 0, 0, 1, 0, 1],\n",
    "     [1, 0, 0, 0, 1, 0, 1]], dtype=float\n",
    ")\n",
    "training_data = training_data / np.reshape(np.sum(training_data, axis=1), (training_data.shape[0], 1))\n",
    "training_labels = np.array([0, 2, 4, 1, 3, 2, 6, 1, 5, 0, 4, 6])"
   ]
  },
  {
   "cell_type": "code",
   "execution_count": 48,
   "metadata": {
    "collapsed": false
   },
   "outputs": [
    {
     "name": "stdout",
     "output_type": "stream",
     "text": [
      "Initialized\n",
      "466.086\n",
      "203.5\n",
      "124.884\n",
      "103.161\n",
      "81.2097\n",
      "108.516\n",
      "101.81\n",
      "90.356\n",
      "73.1478\n",
      "64.3048\n",
      "[0 0 0 1 1 2 2 1 1 0 0 0]\n"
     ]
    }
   ],
   "source": [
    "\"\"\"\n",
    "Set up the neural network, the overall workflow is:\n",
    "    \n",
    "    fetch_embeddings -> avg -> fc -> relu -> softmax loss\n",
    "\"\"\"\n",
    "num_items = len(item_ids)\n",
    "embedding_dim = 128\n",
    "n_hidden_1 = 256\n",
    "n_hidden_2 = 128\n",
    "n_classes = 7\n",
    "batch_size = 12\n",
    "\n",
    "graph = tf.Graph()\n",
    "\n",
    "with graph.as_default():\n",
    "    \n",
    "    x = tf.placeholder(tf.float32, shape=[batch_size, num_items])\n",
    "    y = tf.placeholder(tf.int32, shape=[batch_size])\n",
    "    \n",
    "    embeddings = tf.Variable(\n",
    "        tf.random_uniform([num_items, embedding_dim], -1.0, 1.0))\n",
    "    \n",
    "    embed = tf.matmul(x, embeddings)\n",
    "    \n",
    "    W1 = tf.Variable(tf.random_normal([embedding_dim, n_hidden_1]))\n",
    "    b1 = tf.Variable(tf.random_normal([n_hidden_1]))\n",
    "    \n",
    "    layer_1 = tf.add(tf.matmul(embed, W1), b1)\n",
    "    layer_1 = tf.nn.relu(layer_1)\n",
    "    \n",
    "    W2 = tf.Variable(tf.random_normal([n_hidden_1, n_hidden_2]))\n",
    "    b2 = tf.Variable(tf.random_normal([n_hidden_2]))\n",
    "    \n",
    "    layer_2 = tf.add(tf.matmul(layer_1, W2), b2)\n",
    "    layer_2 = tf.nn.relu(layer_2)\n",
    "    \n",
    "    # TODO: make sure this step is correct\n",
    "    out = tf.matmul(layer_2, tf.transpose(embeddings))\n",
    "    \n",
    "    loss = tf.reduce_mean(tf.nn.sparse_softmax_cross_entropy_with_logits(logits=out, labels=y))\n",
    "    optimizer = tf.train.AdamOptimizer(learning_rate=0.01).minimize(loss)\n",
    "    \n",
    "    init = tf.initialize_all_variables()\n",
    "\n",
    "with tf.Session(graph=graph) as session:\n",
    "    init.run()\n",
    "    print(\"Initialized\")\n",
    "    \n",
    "    for i in range(10):\n",
    "        _, loss_val = session.run([optimizer, loss], feed_dict={\n",
    "            x: training_data,\n",
    "            y: training_labels,\n",
    "        })\n",
    "        \n",
    "        print loss_val\n",
    "    \n",
    "    user_embeddings = training_data.dot(embeddings.eval())\n",
    "    user_items = user_embeddings.dot(embeddings.eval().T)\n",
    "    print np.argmax(user_items, axis=1)\n",
    "        "
   ]
  },
  {
   "cell_type": "code",
   "execution_count": null,
   "metadata": {
    "collapsed": true
   },
   "outputs": [],
   "source": []
  }
 ],
 "metadata": {
  "kernelspec": {
   "display_name": "Python [conda env:tensorflow]",
   "language": "python",
   "name": "conda-env-tensorflow-py"
  },
  "language_info": {
   "codemirror_mode": {
    "name": "ipython",
    "version": 2
   },
   "file_extension": ".py",
   "mimetype": "text/x-python",
   "name": "python",
   "nbconvert_exporter": "python",
   "pygments_lexer": "ipython2",
   "version": "2.7.13"
  }
 },
 "nbformat": 4,
 "nbformat_minor": 2
}
